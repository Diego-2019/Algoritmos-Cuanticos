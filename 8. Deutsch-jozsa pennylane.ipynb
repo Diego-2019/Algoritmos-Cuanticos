{
 "cells": [
  {
   "cell_type": "markdown",
   "id": "1e474c2d",
   "metadata": {},
   "source": [
    "$$Diego \\space Castillo \\space Reyes$$"
   ]
  },
  {
   "cell_type": "markdown",
   "id": "b85b09cb",
   "metadata": {},
   "source": [
    "<h1 align=\"center\">Algoritmo de Deutsch-Jozsa pennylane</h1>\n",
    "Crear el algoritmo de Deutsch-jozsa en Pennylane con matrices de densidad generalizadas"
   ]
  },
  {
   "cell_type": "code",
   "execution_count": 55,
   "id": "227c43ce",
   "metadata": {},
   "outputs": [],
   "source": [
    "import pennylane as qml\n",
    "import numpy as np\n",
    "import matplotlib.pyplot as plt"
   ]
  },
  {
   "cell_type": "code",
   "execution_count": 56,
   "id": "6d6a2128",
   "metadata": {},
   "outputs": [],
   "source": [
    "# ask user for number of qubits\n",
    "while True:\n",
    "    nQubits = int(input(\"Ingrese el numero de qubits (n >= 2): \"))\n",
    "    if nQubits >= 2:\n",
    "        break\n",
    "    else:\n",
    "        print(\"El numero de qubits debe ser mayor o igual a 2.\")\n",
    "\n",
    "\n",
    "# define the quantum device\n",
    "dev = qml.device(\"default.qubit\", wires=nQubits, shots = 1)"
   ]
  },
  {
   "cell_type": "code",
   "execution_count": 57,
   "id": "ed3b7594",
   "metadata": {},
   "outputs": [],
   "source": [
    "# define constant function\n",
    "def constant(x):\n",
    "    # f(x): {0, 1} -> {0, 1}\n",
    "    return 0"
   ]
  },
  {
   "cell_type": "code",
   "execution_count": 58,
   "id": "f0315218",
   "metadata": {},
   "outputs": [],
   "source": [
    "#define balanced function\n",
    "def balanced(x):\n",
    "    # f(x): {0, 1} -> {1, 0}\n",
    "    if x % 2 == 0:\n",
    "        return 1\n",
    "    if x % 2 == 1:\n",
    "        return 0"
   ]
  },
  {
   "cell_type": "code",
   "execution_count": 59,
   "id": "7b973803",
   "metadata": {},
   "outputs": [],
   "source": [
    "# define de oracle \n",
    "def U(f, nQubits):\n",
    "    # Calculate the size of the matrix\n",
    "    dim = 2 ** nQubits\n",
    "    # Initialize the matrix\n",
    "    u = np.zeros((dim, dim))\n",
    "    \n",
    "    # Initialize the stride\n",
    "    stride = 0\n",
    "    for i in range(dim // 2):\n",
    "        fx = f(i)\n",
    "        # set the blocks of the matrix\n",
    "        block = np.array([\n",
    "            [1-fx, fx],\n",
    "            [fx, 1-fx]\n",
    "        ])\n",
    "        # place the block in the matrix\n",
    "        u[stride:stride + 2, stride:stride + 2] = block\n",
    "        # update the stride\n",
    "        stride += 2\n",
    "        \n",
    "    return u\n",
    "\n",
    "# print(f\"Balanceada: \\n{U(balanced, 3)}\")\n",
    "# print(f\"Constante: \\n{U(constant, 3)}\")"
   ]
  },
  {
   "cell_type": "code",
   "execution_count": 60,
   "id": "ae58943e",
   "metadata": {},
   "outputs": [],
   "source": [
    "# define the quantum circuit\n",
    "@qml.qnode(dev)\n",
    "def circuit(U_f):\n",
    "    qml.PauliX(nQubits - 1)\n",
    "    # Aply hadamard to all qubits\n",
    "    for i in range(nQubits):\n",
    "        qml.Hadamard(i)\n",
    "\n",
    "    qml.QubitUnitary(U_f, wires=[n for n in range(nQubits)]) # oracle\n",
    "\n",
    "    # Aply hadamard to the first n-1 qubits\n",
    "    for i in range(nQubits - 1):\n",
    "        qml.Hadamard(i)\n",
    "        \n",
    "    return qml.sample(wires=range(nQubits - 1))"
   ]
  },
  {
   "cell_type": "code",
   "execution_count": 61,
   "id": "09f448e0",
   "metadata": {},
   "outputs": [
    {
     "name": "stdout",
     "output_type": "stream",
     "text": [
      "Resultado de la medicion: [0 0 0 0]\n",
      "La funcion es constante\n"
     ]
    }
   ],
   "source": [
    "U_f = U(constant, nQubits)\n",
    "# U_f = U(balanced, nQubits)\n",
    "\n",
    "# Run the circuit\n",
    "result = circuit(U_f)\n",
    "print(f\"Resultado de la medicion: {result}\")\n",
    "\n",
    "if np.all(result == 0):\n",
    "    print(\"La funcion es constante\")\n",
    "else:\n",
    "    print(\"La funcion es balanceada\")"
   ]
  },
  {
   "cell_type": "code",
   "execution_count": 62,
   "id": "fc8cfa73",
   "metadata": {},
   "outputs": [
    {
     "data": {
      "image/png": "[encoded data removed]",
      "text/plain": [
       "<Figure size 700x600 with 1 Axes>"
      ]
     },
     "metadata": {},
     "output_type": "display_data"
    }
   ],
   "source": [
    "# Draw the circuit using matplotlib\n",
    "qml.drawer.use_style(\"black_white_dark\")\n",
    "fig, ax = qml.draw_mpl(circuit)(U_f)\n",
    "plt.show()"
   ]
  }
 ],
 "metadata": {
  "kernelspec": {
   "display_name": "Python 3",
   "language": "python",
   "name": "python3"
  },
  "language_info": {
   "codemirror_mode": {
    "name": "ipython",
    "version": 3
   },
   "file_extension": ".py",
   "mimetype": "text/x-python",
   "name": "python",
   "nbconvert_exporter": "python",
   "pygments_lexer": "ipython3",
   "version": "3.11.0"
  }
 },
 "nbformat": 4,
 "nbformat_minor": 5
}
