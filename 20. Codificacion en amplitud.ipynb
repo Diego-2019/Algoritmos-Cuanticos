{
 "cells": [
  {
   "cell_type": "markdown",
   "id": "c728e619",
   "metadata": {},
   "source": [
    "$$Diego \\space Castillo \\space Reyes$$\n",
    "<h1 align=\"center\">Codificación en amplitud</h1>\n",
    "Input: N elementos random\n",
    "\n",
    "Output: Codificación en amplitud"
   ]
  },
  {
   "cell_type": "code",
   "execution_count": 1,
   "id": "470145ab",
   "metadata": {},
   "outputs": [],
   "source": [
    "import pennylane as qml\n",
    "import numpy as np\n",
    "import matplotlib.pyplot as plt"
   ]
  },
  {
   "cell_type": "code",
   "execution_count": 2,
   "id": "33aad564",
   "metadata": {},
   "outputs": [],
   "source": [
    "# ask for the number of elements\n",
    "n = int(input(\"Enter the number of elements: \"))"
   ]
  },
  {
   "cell_type": "code",
   "execution_count": 3,
   "id": "56a28a64",
   "metadata": {},
   "outputs": [
    {
     "name": "stdout",
     "output_type": "stream",
     "text": [
      "[5.508 7.081 2.909 5.108 8.929 8.963 1.256 2.072 0.515 4.408]\n"
     ]
    }
   ],
   "source": [
    "np.random.seed(3)\n",
    "\n",
    "# array with n random elements\n",
    "array = np.round(np.random.uniform(0, 10, size=n), 3)\n",
    "\n",
    "print(array)"
   ]
  },
  {
   "cell_type": "code",
   "execution_count": 4,
   "id": "617b4de8",
   "metadata": {},
   "outputs": [],
   "source": [
    "# normalize a element\n",
    "def normalize(x, array):\n",
    "    return np.sqrt(x / np.sum(array))"
   ]
  },
  {
   "cell_type": "code",
   "execution_count": 5,
   "id": "1a3b666f",
   "metadata": {},
   "outputs": [],
   "source": [
    "# if the num of qubits have decimals we go up to the next int number\n",
    "aux = np.log2(n)\n",
    "qubits = int(aux) + 1 if aux > int(aux) else int(aux)\n",
    "\n",
    "# define the device\n",
    "dev = qml.device(\"default.qubit\", wires=qubits)"
   ]
  },
  {
   "cell_type": "code",
   "execution_count": 6,
   "id": "34b6fdf5",
   "metadata": {},
   "outputs": [
    {
     "data": {
      "image/png": "[encoded data removed]",
      "text/plain": [
       "<Figure size 500x500 with 1 Axes>"
      ]
     },
     "metadata": {},
     "output_type": "display_data"
    }
   ],
   "source": [
    "# define the circuit\n",
    "@qml.qnode(dev)\n",
    "def circuit(array):\n",
    "    # create the superposition\n",
    "    for i in range(qubits):\n",
    "        qml.Hadamard(wires=i)\n",
    "\n",
    "    normalizedArray = np.zeros(2**qubits)\n",
    "    for i, element in enumerate(array):\n",
    "        normalizedArray[i] = normalize(element, array)\n",
    "    # print(normalizedArray.round(3))\n",
    "\n",
    "    qml.AmplitudeEmbedding(normalizedArray, wires=range(qubits))\n",
    "\n",
    "    return qml.state()\n",
    "\n",
    "# draw the circuit\n",
    "qml.drawer.use_style(\"black_white_dark\")\n",
    "fig, ax = qml.draw_mpl(circuit)(array)\n",
    "plt.show()"
   ]
  },
  {
   "cell_type": "code",
   "execution_count": 7,
   "id": "9fb8a794",
   "metadata": {},
   "outputs": [
    {
     "name": "stdout",
     "output_type": "stream",
     "text": [
      "[ 0.   +0.j -0.   +0.j  0.   +0.j -0.003+0.j -0.   +0.j  0.162+0.j\n",
      " -0.05 +0.j  0.405+0.j -0.198+0.j  0.403+0.j  0.318+0.j  0.318+0.j\n",
      "  0.318+0.j  0.318+0.j  0.318+0.j  0.318+0.j]\n"
     ]
    }
   ],
   "source": [
    "# run the circuit\n",
    "result = circuit(array)\n",
    "\n",
    "print(result.round(3))"
   ]
  },
  {
   "cell_type": "code",
   "execution_count": 8,
   "id": "e4966b99",
   "metadata": {},
   "outputs": [
    {
     "name": "stdout",
     "output_type": "stream",
     "text": [
      "Suma de los elementos del vector: 1.0\n"
     ]
    }
   ],
   "source": [
    "# check if the state vector is normalized\n",
    "sum = 0\n",
    "for e in result:\n",
    "    sum += np.abs(e)**2\n",
    "\n",
    "print(f\"Suma de los elementos del vector: {sum.round(3)}\")"
   ]
  }
 ],
 "metadata": {
  "kernelspec": {
   "display_name": "Python 3",
   "language": "python",
   "name": "python3"
  },
  "language_info": {
   "codemirror_mode": {
    "name": "ipython",
    "version": 3
   },
   "file_extension": ".py",
   "mimetype": "text/x-python",
   "name": "python",
   "nbconvert_exporter": "python",
   "pygments_lexer": "ipython3",
   "version": "3.11.0"
  }
 },
 "nbformat": 4,
 "nbformat_minor": 5
}
