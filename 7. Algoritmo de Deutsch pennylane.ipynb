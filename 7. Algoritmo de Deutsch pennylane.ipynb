{
 "cells": [
  {
   "cell_type": "markdown",
   "id": "32794da5",
   "metadata": {},
   "source": [
    "$$Diego \\space Castillo \\space Reyes$$"
   ]
  },
  {
   "cell_type": "markdown",
   "id": "f6fa7579",
   "metadata": {},
   "source": [
    "<h1 align=\"center\">Algoritmo de Deutsch pennylane</h1>\n",
    "Crear el algoritmo de Deutsch con matriz de densidad en pennylane"
   ]
  },
  {
   "cell_type": "code",
   "execution_count": 123,
   "id": "b935e9c8",
   "metadata": {},
   "outputs": [],
   "source": [
    "import pennylane as qml\n",
    "import numpy as np\n",
    "import matplotlib.pyplot as plt"
   ]
  },
  {
   "cell_type": "code",
   "execution_count": 124,
   "id": "becbaa20",
   "metadata": {},
   "outputs": [],
   "source": [
    "# define the quantum device\n",
    "dev = qml.device(\"default.qubit\", wires=2, shots=1)"
   ]
  },
  {
   "cell_type": "code",
   "execution_count": 125,
   "id": "92ebaefe",
   "metadata": {},
   "outputs": [],
   "source": [
    "# define constant function\n",
    "def constant(x):\n",
    "    # f(x): {0, 1} -> {0, 1}\n",
    "    if x == 0:\n",
    "        return 0\n",
    "    if x == 1:\n",
    "        return 0\n",
    "\n",
    "#define balanced function\n",
    "def balanced(x):\n",
    "    # f(x): {0, 1} -> {1, 0}\n",
    "    if x == 0:\n",
    "        return 1\n",
    "    if x == 1:\n",
    "        return 0"
   ]
  },
  {
   "cell_type": "code",
   "execution_count": 126,
   "id": "e75d6c5b",
   "metadata": {},
   "outputs": [],
   "source": [
    "# define de oracle \n",
    "def U(f):\n",
    "    u = np.array([\n",
    "        [1-f(0), f(0), 0, 0],\n",
    "        [f(0), 1-f(0), 0, 0],\n",
    "        [0, 0, 1-f(1), f(1)],\n",
    "        [0, 0, f(1), 1-f(1)]\n",
    "    ])\n",
    "    return u"
   ]
  },
  {
   "cell_type": "code",
   "execution_count": 127,
   "id": "fa89314b",
   "metadata": {},
   "outputs": [],
   "source": [
    "# U_f = U(constant)\n",
    "list = [U(constant), U(balanced)]\n",
    "U_f = list[np.random.randint(0, 2)]\n",
    "\n",
    "# define the quantum circuit\n",
    "@qml.qnode(dev)\n",
    "def circuit():\n",
    "    qml.PauliX(1)\n",
    "    qml.Hadamard(0)\n",
    "    qml.Hadamard(1)\n",
    "    qml.QubitUnitary(U_f, wires=[0, 1]) # oracle\n",
    "    qml.Hadamard(0)\n",
    "    return qml.sample(wires=0)"
   ]
  },
  {
   "cell_type": "code",
   "execution_count": 128,
   "id": "9ee6b126",
   "metadata": {},
   "outputs": [
    {
     "data": {
      "image/png": "[encoded data removed]",
      "text/plain": [
       "<Figure size 700x300 with 1 Axes>"
      ]
     },
     "metadata": {},
     "output_type": "display_data"
    }
   ],
   "source": [
    "# Draw the circuit using matplotlib\n",
    "qml.drawer.use_style(\"black_white_dark\")\n",
    "fig, ax = qml.draw_mpl(circuit)()\n",
    "plt.show()"
   ]
  },
  {
   "cell_type": "code",
   "execution_count": 129,
   "id": "8b607a53",
   "metadata": {},
   "outputs": [
    {
     "name": "stdout",
     "output_type": "stream",
     "text": [
      "Resultado de la medicion: 0\n",
      "La funcion es constante\n"
     ]
    }
   ],
   "source": [
    "# Run the circuit and get the result\n",
    "result = circuit()\n",
    "print(f\"Resultado de la medicion: {result}\")\n",
    "\n",
    "print(f\"La funcion es {'constante' if np.array_equal(U_f, U(constant)) else 'balanceada'}\")"
   ]
  }
 ],
 "metadata": {
  "kernelspec": {
   "display_name": "Python 3",
   "language": "python",
   "name": "python3"
  },
  "language_info": {
   "codemirror_mode": {
    "name": "ipython",
    "version": 3
   },
   "file_extension": ".py",
   "mimetype": "text/x-python",
   "name": "python",
   "nbconvert_exporter": "python",
   "pygments_lexer": "ipython3",
   "version": "3.11.0"
  }
 },
 "nbformat": 4,
 "nbformat_minor": 5
}
