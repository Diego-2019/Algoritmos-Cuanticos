{
 "cells": [
  {
   "cell_type": "markdown",
   "id": "f28942a6",
   "metadata": {},
   "source": [
    "$$Diego \\space Castillo \\space Reyes$$"
   ]
  },
  {
   "cell_type": "markdown",
   "id": "41c8fad4",
   "metadata": {},
   "source": [
    "<h1 align=\"center\">Estados de Bell</h1>\n",
    "Realiza los circuitos cuánticos para los 4 estados de bell en qiskit\n",
    "\n",
    "-Dibuja el circuito \n",
    "\n",
    "-Muestra la salida como un vector de estado."
   ]
  },
  {
   "cell_type": "code",
   "execution_count": 65,
   "id": "c9b95f42",
   "metadata": {},
   "outputs": [],
   "source": [
    "from qiskit import *\n",
    "from qiskit_aer import Aer\n",
    "from qiskit.visualization import plot_histogram"
   ]
  },
  {
   "cell_type": "code",
   "execution_count": 66,
   "id": "411c2a7a",
   "metadata": {},
   "outputs": [],
   "source": [
    "# make the backend part a function to avoid repetition\n",
    "def backend_part(qc):\n",
    "    # Define the simulator\n",
    "    backend = Aer.get_backend(\"statevector_simulator\")\n",
    "\n",
    "    # Compile the circuit on the computer or simulator with 1024 shots\n",
    "    compiled_circuit = transpile(qc, backend=backend)\n",
    "    # Execute the circuit on the simulator\n",
    "    job = backend.run(compiled_circuit)\n",
    "    # Get the results of the execution\n",
    "    result = job.result()\n",
    "\n",
    "    # print the results as a state vector\n",
    "    print(result.get_statevector(compiled_circuit, decimals=3))"
   ]
  },
  {
   "cell_type": "markdown",
   "id": "b48eec2b",
   "metadata": {},
   "source": [
    "## Estado $|\\beta_{00} \\rangle = \\frac{1}{\\sqrt{2}} (|00 \\rangle + |11 \\rangle) $"
   ]
  },
  {
   "cell_type": "code",
   "execution_count": 67,
   "id": "5cb704b1",
   "metadata": {},
   "outputs": [
    {
     "data": {
      "image/png": "[encoded data removed]",
      "text/plain": [
       "<Figure size 370.906x200.667 with 1 Axes>"
      ]
     },
     "execution_count": 67,
     "metadata": {},
     "output_type": "execute_result"
    }
   ],
   "source": [
    "# Define the quantum circuit\n",
    "qc = QuantumCircuit(2)\n",
    "\n",
    "# Create the Bell state |β00⟩\n",
    "qc.h(0)\n",
    "qc.cx(0, 1)\n",
    "\n",
    "qc.barrier()\n",
    "\n",
    "# !must delete the measurements to obtain the correct statevector\n",
    "# qc.measure(0, 1)\n",
    "# qc.measure(1, 0)\n",
    "\n",
    "# Draw the circuit\n",
    "qc.draw('mpl')"
   ]
  },
  {
   "cell_type": "code",
   "execution_count": 68,
   "id": "d2e99ef8",
   "metadata": {},
   "outputs": [
    {
     "name": "stdout",
     "output_type": "stream",
     "text": [
      "Statevector([0.707+0.j, 0.   +0.j, 0.   +0.j, 0.707+0.j],\n",
      "            dims=(2, 2))\n"
     ]
    }
   ],
   "source": [
    "backend_part(qc)"
   ]
  },
  {
   "cell_type": "markdown",
   "id": "58cee067",
   "metadata": {},
   "source": [
    "## Estado $|\\beta_{01} \\rangle = \\frac{1}{\\sqrt{2}} (|01 \\rangle + |10 \\rangle) $"
   ]
  },
  {
   "cell_type": "code",
   "execution_count": 69,
   "id": "6f118f21",
   "metadata": {},
   "outputs": [
    {
     "data": {
      "image/png": "[encoded data removed]",
      "text/plain": [
       "<Figure size 370.906x200.667 with 1 Axes>"
      ]
     },
     "execution_count": 69,
     "metadata": {},
     "output_type": "execute_result"
    }
   ],
   "source": [
    "# Reset the circuit and define the circuit\n",
    "qc = QuantumCircuit(2)\n",
    "\n",
    "# Create the Bell state |β10⟩\n",
    "qc.h(0)\n",
    "qc.x(1)\n",
    "qc.cx(0, 1)\n",
    "\n",
    "qc.barrier()\n",
    "\n",
    "# Draw the circuit\n",
    "qc.draw('mpl')"
   ]
  },
  {
   "cell_type": "code",
   "execution_count": 70,
   "id": "23210c97",
   "metadata": {},
   "outputs": [
    {
     "name": "stdout",
     "output_type": "stream",
     "text": [
      "Statevector([0.   +0.j, 0.707+0.j, 0.707+0.j, 0.   +0.j],\n",
      "            dims=(2, 2))\n"
     ]
    }
   ],
   "source": [
    "backend_part(qc)"
   ]
  },
  {
   "cell_type": "markdown",
   "id": "750aab64",
   "metadata": {},
   "source": [
    "## Estado $|\\beta_{10} \\rangle = \\frac{1}{\\sqrt{2}} (|00 \\rangle - |11 \\rangle) $"
   ]
  },
  {
   "cell_type": "code",
   "execution_count": 72,
   "id": "a1c4ec80",
   "metadata": {},
   "outputs": [
    {
     "data": {
      "image/png": "[encoded data removed]",
      "text/plain": [
       "<Figure size 454.517x200.667 with 1 Axes>"
      ]
     },
     "execution_count": 72,
     "metadata": {},
     "output_type": "execute_result"
    }
   ],
   "source": [
    "# Reset the circuit and define the circuit\n",
    "qc = QuantumCircuit(2)\n",
    "\n",
    "# Create the Bell state |β01⟩\n",
    "qc.h(0)\n",
    "qc.cx(0, 1)\n",
    "qc.z(1)\n",
    "\n",
    "qc.barrier()\n",
    "\n",
    "# Draw the circuit\n",
    "qc.draw('mpl')"
   ]
  },
  {
   "cell_type": "code",
   "execution_count": 73,
   "id": "b83e5d84",
   "metadata": {},
   "outputs": [
    {
     "name": "stdout",
     "output_type": "stream",
     "text": [
      "Statevector([ 0.707+0.j,  0.   +0.j, -0.   +0.j, -0.707+0.j],\n",
      "            dims=(2, 2))\n"
     ]
    }
   ],
   "source": [
    "backend_part(qc)"
   ]
  },
  {
   "cell_type": "markdown",
   "id": "57f95842",
   "metadata": {},
   "source": [
    "## Estado $|\\beta_{11} \\rangle = \\frac{1}{\\sqrt{2}} (|01 \\rangle - |10 \\rangle) $"
   ]
  },
  {
   "cell_type": "code",
   "execution_count": 81,
   "id": "c5e2a262",
   "metadata": {},
   "outputs": [
    {
     "data": {
      "image/png": "[encoded data removed]",
      "text/plain": [
       "<Figure size 454.517x200.667 with 1 Axes>"
      ]
     },
     "execution_count": 81,
     "metadata": {},
     "output_type": "execute_result"
    }
   ],
   "source": [
    "# Reset the circuit and define the circuit\n",
    "qc = QuantumCircuit(2)\n",
    "\n",
    "# Create the Bell state |β01⟩\n",
    "qc.h(0)\n",
    "qc.x(1)\n",
    "qc.cx(0, 1)\n",
    "qc.z(0)\n",
    "\n",
    "qc.barrier()\n",
    "\n",
    "# Draw the circuit\n",
    "qc.draw('mpl')"
   ]
  },
  {
   "cell_type": "code",
   "execution_count": 82,
   "id": "e3ac1a6b",
   "metadata": {},
   "outputs": [
    {
     "name": "stdout",
     "output_type": "stream",
     "text": [
      "Statevector([ 0.   +0.j, -0.707+0.j,  0.707+0.j, -0.   +0.j],\n",
      "            dims=(2, 2))\n"
     ]
    }
   ],
   "source": [
    "backend_part(qc)"
   ]
  }
 ],
 "metadata": {
  "kernelspec": {
   "display_name": "Python 3",
   "language": "python",
   "name": "python3"
  },
  "language_info": {
   "codemirror_mode": {
    "name": "ipython",
    "version": 3
   },
   "file_extension": ".py",
   "mimetype": "text/x-python",
   "name": "python",
   "nbconvert_exporter": "python",
   "pygments_lexer": "ipython3",
   "version": "3.11.0"
  }
 },
 "nbformat": 4,
 "nbformat_minor": 5
}
